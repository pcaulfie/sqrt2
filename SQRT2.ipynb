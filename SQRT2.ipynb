{
 "cells": [
  {
   "cell_type": "markdown",
   "metadata": {},
   "source": [
    "# SQRT2"
   ]
  },
  {
   "cell_type": "markdown",
   "metadata": {},
   "source": [
    "Write a Python function called sqrt2 that calculates and\n",
    "prints to the screen the square root of 2 to 100 decimal places. Your code should\n",
    "not depend on any module from the standard library or otherwise. You should\n",
    "research the task first and include references and a description of your algorithm."
   ]
  },
  {
   "cell_type": "markdown",
   "metadata": {},
   "source": [
    "How to calculate SQRT2\t\n",
    "\n",
    "Solution adapted from [math.com](hhttp://www.math.com/school/subject1/lessons/S1U1L9EX.html#sm1)\n",
    "\n",
    "Step 1: 1. Find the two perfect square numbers it lies between.\n",
    "        1.4 squared =  1.96 and 1.5 squared = 2.25\t\t\t\n",
    "        Therefore SQRT 2 lies between 1.4 and 1.5.\t\t\t\n",
    "\t\t\t\n",
    "Step 2. Divide 2 by 1.4\t=\t\t                1.4285714286 (a)\n",
    "\t\t\t\n",
    "Step 3. Average 1.4 and 1.4828571 (a) = \t\t1.4142857143 (b)\n",
    "\t\t\t\n",
    "Step 4. Divide 2 by 1.4142857143 (b)  =\t\t\t1.4141414141 (c)\n",
    "\t\t\t\n",
    "Step 5. Average (b) and (c)           =         1.4142135642 (d)\n",
    "\t\t\t\n",
    "Step 6. Divide 2 by (d):  \t\t\t  =         1.4142135605 (e)\n",
    "\t\t\t\n",
    "Step 7. Average (d) and (e)\t\t\t  =         1.4142135624 (f)\n",
    "\t\t\t\n",
    "Step 8. Divide 2 by (f)   \t\t\t  =         1.4142135624 (g)\n",
    "\t\t\t\n",
    "Step 9. Average (f) and (g)           =         1.4142135624 \n",
    "\n"
   ]
  },
  {
   "cell_type": "code",
   "execution_count": 81,
   "metadata": {},
   "outputs": [
    {
     "name": "stdout",
     "output_type": "stream",
     "text": [
      "The Square Root of 2 is: 1.414213562373095048801688724209698078569671875376948073176679737990732478462107038850387534327641573\n"
     ]
    }
   ],
   "source": [
    "from decimal import *\n",
    "#getcontext().prec = 100\n",
    "# Unlike floating point, the decimal module has a user alterable precision (defaulting to 28 places) \n",
    "# Change the precision to 100 decimal places: Adapted from https://docs.python.org/3/library/decimal.html\n",
    "\n",
    "def sqrt2():\n",
    "    getcontext().prec = 100\n",
    "    # Change the precision to 100 decimal places: Adapted from https://docs.python.org/3/library/decimal.html\n",
    "    getcontext().rounding = ROUND_UP\n",
    "    # Round up the calculation when displaying 100 decimal places.\n",
    "    a = Decimal(2)\n",
    "    x = Decimal(1.4)\n",
    "    div = 0\n",
    "\n",
    "    for i in range(10):\n",
    "        est = Decimal(x)\n",
    "        div = Decimal(a) / Decimal(est)\n",
    "        newest= (Decimal(est)+Decimal(div))/2\n",
    "        x = newest\n",
    "        \n",
    "    print(\"The Square Root of 2 is:\", x)\n",
    "\n",
    "sqrt2()"
   ]
  },
  {
   "cell_type": "code",
   "execution_count": 41,
   "metadata": {},
   "outputs": [
    {
     "name": "stdout",
     "output_type": "stream",
     "text": [
      "1.4142135623730949234300169337075203657150268554687500000000000000000000000000000000000000000000000000\n"
     ]
    }
   ],
   "source": [
    "def sqrt2():\n",
    "    \n",
    "    #a = float(2)\n",
    "    a = float(\"{:.100f}\".format(2))\n",
    "    #x = float(1.4)\n",
    "    x = float(\"{:.100f}\".format(1.4))\n",
    "    div = 0\n",
    "    #test = a/x\n",
    "    for i in range(10):\n",
    "        #est = (x)\n",
    "        est = float(\"{:.100f}\".format(x))\n",
    "        #div = (a) / (est)\n",
    "        div = float(\"{:.100f}\".format(a/est))\n",
    "        newest= ((est)+(div))/2\n",
    "        #newest= float(\"{:.100f}\".format((est+div)/2)\n",
    "        #x = newest\n",
    "        x = float(\"{:.100f}\".format(newest))              \n",
    "        #print(\"{:.100f}\".format(x))\n",
    "    #print(\"The Square Root of 2 is:\", x)\n",
    "    #print(\"{:.100f}\".format(x))\n",
    "    #print(format(x, '.100f'))  # give 100 decimal places\n",
    "    #print('%(number).100f quote types.' %\n",
    "     # {\"number\": x})\n",
    "    #x_string = \"{:.100f}\".format(x)\n",
    "    #print(x_string) \n",
    "    ans = x.hex()\n",
    "    ans2 = \"{:.100f}\".format(float.fromhex(ans))\n",
    "    print(ans2)\n",
    "sqrt2()"
   ]
  },
  {
   "cell_type": "markdown",
   "metadata": {},
   "source": [
    "## Compare SQRT2 Function with "
   ]
  },
  {
   "cell_type": "code",
   "execution_count": 55,
   "metadata": {},
   "outputs": [
    {
     "data": {
      "text/plain": [
       "Decimal('1.414213562373095048801688724209698078569671875376948073176679737990732478462107038850387534327641573')"
      ]
     },
     "execution_count": 55,
     "metadata": {},
     "output_type": "execute_result"
    }
   ],
   "source": [
    "from decimal import *\n",
    "# Adapted from https://docs.python.org/3/library/decimal.html\n",
    "getcontext().prec = 100\n",
    "# Change the precision to 100 decimal places\n",
    "Decimal(2).sqrt()\n",
    "# callculate square root of 2 to 100 places using sqrt function\n"
   ]
  },
  {
   "cell_type": "code",
   "execution_count": 9,
   "metadata": {},
   "outputs": [
    {
     "name": "stdout",
     "output_type": "stream",
     "text": [
      "0.3333333333333333148296162562473909929394721984863281250000000000000000000000000000000000000000000000\n"
     ]
    }
   ],
   "source": [
    "x = 1/3\n",
    "#format(x, '.100g')  # give 100 significant digits\n",
    "#print('%(number).100f quote types.' %\n",
    " #         {\"number\": x})\n",
    "x_string = \"{:.100f}\".format(1/3)\n",
    "print(x_string)"
   ]
  },
  {
   "cell_type": "code",
   "execution_count": 3,
   "metadata": {},
   "outputs": [],
   "source": [
    "z = x.hex()"
   ]
  },
  {
   "cell_type": "code",
   "execution_count": 5,
   "metadata": {},
   "outputs": [
    {
     "name": "stdout",
     "output_type": "stream",
     "text": [
      "0.3333333333333333148296162562473909929394721984863281250000000000000000000000000000000000000000000000 quote types.\n"
     ]
    }
   ],
   "source": [
    "y = float.fromhex(z)\n",
    "print('%(number).100f quote types.' %\n",
    "      {\"number\": y})"
   ]
  },
  {
   "cell_type": "code",
   "execution_count": null,
   "metadata": {},
   "outputs": [],
   "source": []
  }
 ],
 "metadata": {
  "kernelspec": {
   "display_name": "Python 3",
   "language": "python",
   "name": "python3"
  },
  "language_info": {
   "codemirror_mode": {
    "name": "ipython",
    "version": 3
   },
   "file_extension": ".py",
   "mimetype": "text/x-python",
   "name": "python",
   "nbconvert_exporter": "python",
   "pygments_lexer": "ipython3",
   "version": "3.8.3"
  }
 },
 "nbformat": 4,
 "nbformat_minor": 4
}
