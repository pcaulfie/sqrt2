{
 "cells": [
  {
   "cell_type": "markdown",
   "metadata": {},
   "source": [
    "# Tasks 2020\n",
    "\n",
    "## Machine Learning and Statistics"
   ]
  },
  {
   "cell_type": "markdown",
   "metadata": {},
   "source": [
    "## Task 1. SQRT2"
   ]
  },
  {
   "cell_type": "markdown",
   "metadata": {},
   "source": [
    "Write a Python function called sqrt2 that calculates and\n",
    "prints to the screen the square root of 2 to 100 decimal places. Your code should\n",
    "not depend on any module from the standard library or otherwise. You should\n",
    "research the task first and include references and a description of your algorithm."
   ]
  },
  {
   "cell_type": "markdown",
   "metadata": {},
   "source": [
    "How to calculate SQRT2\t\n",
    "\n",
    "Solution adapted from [math.com](hhttp://www.math.com/school/subject1/lessons/S1U1L9EX.html#sm1)\n",
    "\n",
    "Step 1: 1. Find the two perfect square numbers it lies between.\n",
    "        1.4 squared =  1.96 and 1.5 squared = 2.25\t\t\t\n",
    "        Therefore SQRT 2 lies between 1.4 and 1.5.\t\t\t\n",
    "\t\t\t\n",
    "Step 2. Divide 2 by 1.4\t=\t\t                1.4285714286 (a)\n",
    "\t\t\t\n",
    "Step 3. Average 1.4 and 1.4828571 (a) = \t\t1.4142857143 (b)\n",
    "\t\t\t\n",
    "Step 4. Divide 2 by 1.4142857143 (b)  =\t\t\t1.4141414141 (c)\n",
    "\t\t\t\n",
    "Step 5. Average (b) and (c)           =         1.4142135642 (d)\n",
    "\t\t\t\n",
    "Step 6. Divide 2 by (d):  \t\t\t  =         1.4142135605 (e)\n",
    "\t\t\t\n",
    "Step 7. Average (d) and (e)\t\t\t  =         1.4142135624 (f)\n",
    "\t\t\t\n",
    "Step 8. Divide 2 by (f)   \t\t\t  =         1.4142135624 (g)\n",
    "\t\t\t\n",
    "Step 9. Average (f) and (g)           =         1.4142135624 \n",
    "\n"
   ]
  },
  {
   "cell_type": "code",
   "execution_count": 81,
   "metadata": {},
   "outputs": [
    {
     "name": "stdout",
     "output_type": "stream",
     "text": [
      "The Square Root of 2 is: 1.414213562373095048801688724209698078569671875376948073176679737990732478462107038850387534327641573\n"
     ]
    }
   ],
   "source": [
    "from decimal import *\n",
    "#getcontext().prec = 100\n",
    "# Unlike floating point, the decimal module has a user alterable precision (defaulting to 28 places) \n",
    "# Change the precision to 100 decimal places: Adapted from https://docs.python.org/3/library/decimal.html\n",
    "\n",
    "def sqrt2():\n",
    "    getcontext().prec = 100\n",
    "    # Change the precision to 100 decimal places: Adapted from https://docs.python.org/3/library/decimal.html\n",
    "    getcontext().rounding = ROUND_UP\n",
    "    # Round up the calculation when displaying 100 decimal places.\n",
    "    a = Decimal(2)\n",
    "    x = Decimal(1.4)\n",
    "    div = 0\n",
    "\n",
    "    for i in range(10):\n",
    "        est = Decimal(x)\n",
    "        div = Decimal(a) / Decimal(est)\n",
    "        newest= (Decimal(est)+Decimal(div))/2\n",
    "        x = newest\n",
    "        \n",
    "    print(\"The Square Root of 2 is:\", x)\n",
    "\n",
    "sqrt2()"
   ]
  },
  {
   "cell_type": "code",
   "execution_count": 4,
   "metadata": {},
   "outputs": [
    {
     "ename": "SyntaxError",
     "evalue": "invalid syntax (<ipython-input-4-921523401f49>, line 15)",
     "output_type": "error",
     "traceback": [
      "\u001b[1;36m  File \u001b[1;32m\"<ipython-input-4-921523401f49>\"\u001b[1;36m, line \u001b[1;32m15\u001b[0m\n\u001b[1;33m    ans = x **= 100\u001b[0m\n\u001b[1;37m            ^\u001b[0m\n\u001b[1;31mSyntaxError\u001b[0m\u001b[1;31m:\u001b[0m invalid syntax\n"
     ]
    }
   ],
   "source": [
    "def sqrt2():\n",
    "    \n",
    "    a = float(2.0)\n",
    "    x = float(1.4)\n",
    "    div = 0\n",
    "    \n",
    "    for i in range(10):\n",
    "        est = format(x, '.100f')\n",
    "        div = format(a / float(est), '.100f')\n",
    "        \n",
    "        #div = (a) / (est)\n",
    "        newest= format((float(est) + float(div))/2,'.100f')\n",
    "        x = float(newest)\n",
    "        #print(div)\n",
    "    ans = x **= 100\n",
    "    print(ans)\n",
    "    \n",
    "    \n",
    "sqrt2()"
   ]
  },
  {
   "cell_type": "code",
   "execution_count": 65,
   "metadata": {},
   "outputs": [
    {
     "name": "stdout",
     "output_type": "stream",
     "text": [
      "1.4142135623730949234300169337075203657150268554687500000000000000000000000000000000000000000000000000\n"
     ]
    }
   ],
   "source": [
    "def sqrt2():\n",
    "    \n",
    "    #a = float(2)\n",
    "    a = float(\"{:.100f}\".format(2))\n",
    "    #x = float(1.4)\n",
    "    x = float(\"{:.100f}\".format(1.4))\n",
    "    div = 0\n",
    "    #test = a/x\n",
    "    for i in range(10):\n",
    "        #est = (x)\n",
    "        est = float(\"{:.100f}\".format(x))\n",
    "        #div = (a) / (est)\n",
    "        div = float(\"{:.100f}\".format(a/est))\n",
    "        newest= ((est)+(div))/2\n",
    "        #newest= float(\"{:.100f}\".format((est+div)/2)\n",
    "        #x = newest\n",
    "        x = float(\"{:.100f}\".format(newest))              \n",
    "        #print(\"{:.100f}\".format(x))\n",
    "    #print(\"The Square Root of 2 is:\", x)\n",
    "    #print(\"{:.100f}\".format(x))\n",
    "    #print(format(x, '.100f'))  # give 100 decimal places\n",
    "    #print('%(number).100f quote types.' %\n",
    "     # {\"number\": x})\n",
    "    #x_string = \"{:.100f}\".format(x)\n",
    "    #print(x_string) \n",
    "    ans = x.hex()\n",
    "    ans2 = \"{:.100f}\".format(float.fromhex(ans))\n",
    "    print(ans2)\n",
    "sqrt2()"
   ]
  },
  {
   "cell_type": "markdown",
   "metadata": {},
   "source": [
    "## Compare SQRT2 Function with "
   ]
  },
  {
   "cell_type": "code",
   "execution_count": 64,
   "metadata": {},
   "outputs": [
    {
     "name": "stdout",
     "output_type": "stream",
     "text": [
      "1.414213562373095048801688724209698078569671875376948073176679737990732478462107038850387534327641573\n",
      "2.000000000000000000000000000000000000000000000000000000000000000000000000000000000000000000000000001\n"
     ]
    }
   ],
   "source": [
    "from decimal import *\n",
    "# Adapted from https://docs.python.org/3/library/decimal.html\n",
    "getcontext().prec = 100\n",
    "# Change the precision to 100 decimal places\n",
    "test = Decimal(2).sqrt()\n",
    "# callculate square root of 2 to 100 places using sqrt function\n",
    "print(test)\n",
    "print(test*test)"
   ]
  },
  {
   "cell_type": "code",
   "execution_count": 21,
   "metadata": {},
   "outputs": [
    {
     "name": "stdout",
     "output_type": "stream",
     "text": [
      "1.4142857142857141\n",
      "1.4142135642135643\n",
      "1.414213562373095\n",
      "1.414213562373095\n"
     ]
    },
    {
     "data": {
      "text/plain": [
       "True"
      ]
     },
     "execution_count": 21,
     "metadata": {},
     "output_type": "execute_result"
    }
   ],
   "source": [
    "def newtons_method(num, estimate):\n",
    "# Solution adapted from https://stackoverflow.com/a/48438631\n",
    "    # Computing a new_estimate\n",
    "    new_estimate = (estimate + num / estimate) / 2\n",
    "    string_value = str(new_estimate)\n",
    "    print(string_value)\n",
    "    # Base Case: Comparing our estimate with built-in functions value\n",
    "    #if new_estimate == math.sqrt(num):\n",
    "    #        return True\n",
    "    if new_estimate == estimate:\n",
    "            return True\n",
    "    else:\n",
    "            return newtons_method(num, new_estimate)\n",
    "        \n",
    "newtons_method(2,1.4)"
   ]
  },
  {
   "cell_type": "code",
   "execution_count": 63,
   "metadata": {},
   "outputs": [
    {
     "name": "stdout",
     "output_type": "stream",
     "text": [
      "2.0000000000000004\n",
      "The sqrt(2) = 1 . 4142135623730952214093017858547657902953555641438782124185842940740828094528952769132495248707026944\n"
     ]
    }
   ],
   "source": [
    "def sqrt2():\n",
    "    \n",
    "    a = 2 * 10**100\n",
    "  \n",
    "    x = 1.4 * 10**100\n",
    "    \n",
    "    div = 0\n",
    "    \n",
    "    for i in range(100):\n",
    "        est = x\n",
    "        div = a / x * 10**100\n",
    "        newest = (est + div) / 2\n",
    "        x = newest\n",
    "        \n",
    "    test = (newest / 10**100) \n",
    "    test = test*test\n",
    "    \n",
    "    ans = (\"{:100.0f}\".format( newest ))\n",
    "   \n",
    "    print(test)\n",
    "    print(\"The sqrt(2) =\",ans[0],\".\",ans[1:101])\n",
    "    # slice string by converting it into an array and outputting the first element of the array,then decimal point, followed my the next 100 elements of the array wh\n",
    "\n",
    "sqrt2()"
   ]
  },
  {
   "cell_type": "markdown",
   "metadata": {},
   "source": [
    "# "
   ]
  },
  {
   "cell_type": "code",
   "execution_count": null,
   "metadata": {},
   "outputs": [],
   "source": []
  }
 ],
 "metadata": {
  "kernelspec": {
   "display_name": "Python 3",
   "language": "python",
   "name": "python3"
  },
  "language_info": {
   "codemirror_mode": {
    "name": "ipython",
    "version": 3
   },
   "file_extension": ".py",
   "mimetype": "text/x-python",
   "name": "python",
   "nbconvert_exporter": "python",
   "pygments_lexer": "ipython3",
   "version": "3.8.3"
  }
 },
 "nbformat": 4,
 "nbformat_minor": 4
}
