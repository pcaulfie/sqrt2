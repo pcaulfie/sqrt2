{
 "cells": [
  {
   "cell_type": "markdown",
   "metadata": {},
   "source": [
    "# Tasks 2020\n",
    "\n",
    "## Machine Learning and Statistics"
   ]
  },
  {
   "cell_type": "markdown",
   "metadata": {},
   "source": [
    "## Task 1. SQRT2"
   ]
  },
  {
   "cell_type": "markdown",
   "metadata": {},
   "source": [
    "Write a Python function called sqrt2 that calculates and\n",
    "prints to the screen the square root of 2 to 100 decimal places. Your code should\n",
    "not depend on any module from the standard library or otherwise. You should\n",
    "research the task first and include references and a description of your algorithm."
   ]
  },
  {
   "cell_type": "markdown",
   "metadata": {},
   "source": [
    "How to calculate SQRT2\t\n",
    "\n",
    "Solution adapted from [math.com](hhttp://www.math.com/school/subject1/lessons/S1U1L9EX.html#sm1)\n",
    "\n",
    "Step 1: 1. Find the two perfect square numbers it lies between.\n",
    "        1.4 squared =  1.96 and 1.5 squared = 2.25\t\t\t\n",
    "        Therefore SQRT 2 lies between 1.4 and 1.5.\t\t\t\n",
    "\t\t\t\n",
    "Step 2. Divide 2 by 1.4\t=\t\t                1.4285714286 (a)\n",
    "\t\t\t\n",
    "Step 3. Average 1.4 and 1.4828571 (a) = \t\t1.4142857143 (b)\n",
    "\t\t\t\n",
    "Step 4. Divide 2 by 1.4142857143 (b)  =\t\t\t1.4141414141 (c)\n",
    "\t\t\t\n",
    "Step 5. Average (b) and (c)           =         1.4142135642 (d)\n",
    "\t\t\t\n",
    "Step 6. Divide 2 by (d):  \t\t\t  =         1.4142135605 (e)\n",
    "\t\t\t\n",
    "Step 7. Average (d) and (e)\t\t\t  =         1.4142135624 (f)\n",
    "\t\t\t\n",
    "Step 8. Divide 2 by (f)   \t\t\t  =         1.4142135624 (g)\n",
    "\t\t\t\n",
    "Step 9. Average (f) and (g)           =         1.4142135624 \n",
    "\n"
   ]
  },
  {
   "cell_type": "markdown",
   "metadata": {},
   "source": [
    "### The Babylonian square-root algorithm\n",
    "The iterative method is called the Babylonian method for finding square roots, or sometimes Hero's method. It was known to the ancient Babylonians (1500 BC) and Greeks (100 AD) long before Newton invented his general procedure.\n",
    "\n",
    "Here's how it works. Suppose you are given any positive number S. To find the square root of S, do the following:\n",
    "\n",
    "1. Make an initial guess. Guess any positive number x0.\n",
    "1. Improve the guess. Apply the formula x1 = (x0 + S / x0) / 2. The number x1 is a better approximation to sqrt(S).\n",
    "1. Iterate until convergence. Apply the formula xn+1 = (xn + S / xn) / 2 until the process converges. Convergence is achieved when the digits of xn+1 and xn agree to as many decimal places as you desire.\n",
    "\n",
    "Let's use this algorithm to compute the square root of S = 2 to 100 decimal places.\n",
    "\n",
    "An initial guess is x0 = 1.4.\n"
   ]
  },
  {
   "cell_type": "markdown",
   "metadata": {},
   "source": [
    "### 1st Unsuccessful Attempt"
   ]
  },
  {
   "cell_type": "code",
   "execution_count": 1,
   "metadata": {},
   "outputs": [
    {
     "name": "stdout",
     "output_type": "stream",
     "text": [
      "1.4142135623730949234300169337075203657150268554687500000000000000000000000000000000000000000000000000\n"
     ]
    }
   ],
   "source": [
    "def sqrt(s, guess):\n",
    "    \n",
    "    a = float(2)\n",
    "    x = float(1.4)\n",
    "    div = 0\n",
    "    \n",
    "    for i in range(10):\n",
    "        est = format(x, '.100f')\n",
    "        div = format(a / float(est), '.100f')\n",
    "        \n",
    "        #div = (a) / (est)\n",
    "        newest= format((float(est) + float(div))/2,'.100f')\n",
    "        x = float(newest)\n",
    "        #print(div)\n",
    "    \n",
    "    print(newest)\n",
    "    \n",
    "    \n",
    "sqrt(2, 1.4)"
   ]
  },
  {
   "cell_type": "markdown",
   "metadata": {},
   "source": [
    "### Successful Attempt"
   ]
  },
  {
   "cell_type": "code",
   "execution_count": 29,
   "metadata": {},
   "outputs": [
    {
     "name": "stdout",
     "output_type": "stream",
     "text": [
      "The sqrt(2) = 1 . 4142135623730952214093017858547657902953555641438782124185842940740828094528952769132495248707026944\n"
     ]
    }
   ],
   "source": [
    "def sqrtx(s, guess): \n",
    "# Calculate the square root of 2 using the Babylonian Method.    \n",
    "    s = s * 10**100\n",
    "  \n",
    "    x = guess * 10**100\n",
    "    \n",
    "    \n",
    "    while True:\n",
    "        guess = x           \n",
    "        newguess = (guess + (s / x) * 10**100) / 2\n",
    "        \n",
    "        # Improve the guess. Apply the formula x1 = (x0 + S / x0) / 2. The number x1 is a better approximation to sqrt(S).\n",
    "        if newguess == guess:\n",
    "        # Check if convergence is achieved when the digits of xn+1 and xn agree to as many decimal places as you desire.\n",
    "            break\n",
    "        else:\n",
    "            x = newguess \n",
    "         \n",
    "        \n",
    "    ans = (\"{:100.0f}\".format( newguess))\n",
    "   \n",
    "    \n",
    "    print(\"The sqrt(2) =\",ans[0],\".\",ans[1:101])\n",
    "    # slice string by converting it into an array and outputting the first element of the array,then decimal point, followed my the next 100 elements of the array wh\n",
    "   \n",
    "\n",
    "sqrtx(2, 1.4)"
   ]
  },
  {
   "cell_type": "markdown",
   "metadata": {},
   "source": [
    "### Verify Answer "
   ]
  },
  {
   "cell_type": "code",
   "execution_count": null,
   "metadata": {},
   "outputs": [],
   "source": [
    "from decimal import *\n",
    "#getcontext().prec = 100\n",
    "# Unlike floating point, the decimal module has a user alterable precision (defaulting to 28 places) \n",
    "# Change the precision to 100 decimal places: Adapted from https://docs.python.org/3/library/decimal.html\n",
    "\n",
    "def sqrt2():\n",
    "    getcontext().prec = 100\n",
    "    # Change the precision to 100 decimal places: Adapted from https://docs.python.org/3/library/decimal.html\n",
    "    getcontext().rounding = ROUND_UP\n",
    "    # Round up the calculation when displaying 100 decimal places.\n",
    "    a = Decimal(2)\n",
    "    x = Decimal(1.4)\n",
    "    div = 0\n",
    "\n",
    "    for i in range(10):\n",
    "        est = Decimal(x)\n",
    "        div = Decimal(a) / Decimal(est)\n",
    "        newest= (Decimal(est)+Decimal(div))/2\n",
    "        x = newest\n",
    "        \n",
    "    print(\"The Square Root of 2 is:\", x)\n",
    "\n",
    "sqrt2()"
   ]
  },
  {
   "cell_type": "markdown",
   "metadata": {},
   "source": [
    "### Comparison"
   ]
  },
  {
   "cell_type": "markdown",
   "metadata": {},
   "source": [
    "## References \n",
    "1. https://blogs.sas.com/content/iml/2016/05/16/babylonian-square-roots.html\n",
    "1. https://medium.com/@cosinekitty/how-to-calculate-a-million-digits-of-pi-d62ce3db8f58"
   ]
  }
 ],
 "metadata": {
  "kernelspec": {
   "display_name": "Python 3",
   "language": "python",
   "name": "python3"
  },
  "language_info": {
   "codemirror_mode": {
    "name": "ipython",
    "version": 3
   },
   "file_extension": ".py",
   "mimetype": "text/x-python",
   "name": "python",
   "nbconvert_exporter": "python",
   "pygments_lexer": "ipython3",
   "version": "3.8.3"
  }
 },
 "nbformat": 4,
 "nbformat_minor": 4
}
