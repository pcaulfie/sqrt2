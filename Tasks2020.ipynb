{
 "cells": [
  {
   "cell_type": "markdown",
   "metadata": {},
   "source": [
    "# Tasks 2020\n",
    "\n",
    "## Machine Learning and Statistics"
   ]
  },
  {
   "cell_type": "markdown",
   "metadata": {},
   "source": [
    "## Task 1. SQRT2"
   ]
  },
  {
   "cell_type": "markdown",
   "metadata": {},
   "source": [
    "Write a Python function called sqrt2 that calculates and\n",
    "prints to the screen the square root of 2 to 100 decimal places. Your code should\n",
    "not depend on any module from the standard library or otherwise. You should\n",
    "research the task first and include references and a description of your algorithm."
   ]
  },
  {
   "cell_type": "markdown",
   "metadata": {},
   "source": [
    "How to calculate SQRT2\t\n",
    "\n",
    "Solution adapted from [math.com](hhttp://www.math.com/school/subject1/lessons/S1U1L9EX.html#sm1)\n",
    "\n",
    "Step 1: 1. Find the two perfect square numbers it lies between.\n",
    "        1.4 squared =  1.96 and 1.5 squared = 2.25\t\t\t\n",
    "        Therefore SQRT 2 lies between 1.4 and 1.5.\t\t\t\n",
    "\t\t\t\n",
    "Step 2. Divide 2 by 1.4\t=\t\t                1.4285714286 (a)\n",
    "\t\t\t\n",
    "Step 3. Average 1.4 and 1.4828571 (a) = \t\t1.4142857143 (b)\n",
    "\t\t\t\n",
    "Step 4. Divide 2 by 1.4142857143 (b)  =\t\t\t1.4141414141 (c)\n",
    "\t\t\t\n",
    "Step 5. Average (b) and (c)           =         1.4142135642 (d)\n",
    "\t\t\t\n",
    "Step 6. Divide 2 by (d):  \t\t\t  =         1.4142135605 (e)\n",
    "\t\t\t\n",
    "Step 7. Average (d) and (e)\t\t\t  =         1.4142135624 (f)\n",
    "\t\t\t\n",
    "Step 8. Divide 2 by (f)   \t\t\t  =         1.4142135624 (g)\n",
    "\t\t\t\n",
    "Step 9. Average (f) and (g)           =         1.4142135624 \n",
    "\n"
   ]
  },
  {
   "cell_type": "markdown",
   "metadata": {},
   "source": [
    "### The Babylonian square-root algorithm\n",
    "The iterative method is called the Babylonian method for finding square roots, or sometimes Hero's method. It was known to the ancient Babylonians (1500 BC) and Greeks (100 AD) long before Newton invented his general procedure.\n",
    "\n",
    "Here's how it works. Suppose you are given any positive number S. To find the square root of S, do the following:\n",
    "\n",
    "1. Make an initial guess. Guess any positive number x0.\n",
    "1. Improve the guess. Apply the formula x1 = (x0 + S / x0) / 2. The number x1 is a better approximation to sqrt(S).\n",
    "1. Iterate until convergence. Apply the formula xn+1 = (xn + S / xn) / 2 until the process converges. Convergence is achieved when the digits of xn+1 and xn agree to as many decimal places as you desire.\n",
    "\n",
    "Let's use this algorithm to compute the square root of S = 2 to 100 decimal places.\n",
    "\n",
    "An initial guess is x0 = 1.4.\n"
   ]
  },
  {
   "cell_type": "markdown",
   "metadata": {},
   "source": [
    "### 1st Unsuccessful Attempt"
   ]
  },
  {
   "cell_type": "code",
   "execution_count": 1,
   "metadata": {},
   "outputs": [
    {
     "name": "stdout",
     "output_type": "stream",
     "text": [
      "1.4142135623730949234300169337075203657150268554687500000000000000000000000000000000000000000000000000\n"
     ]
    }
   ],
   "source": [
    "def sqrt(s, guess):\n",
    "    \n",
    "    a = float(2)\n",
    "    x = float(1.4)\n",
    "    div = 0\n",
    "    \n",
    "    for i in range(10):\n",
    "        est = format(x, '.100f')\n",
    "        div = format(a / float(est), '.100f')\n",
    "        \n",
    "        #div = (a) / (est)\n",
    "        newest= format((float(est) + float(div))/2,'.100f')\n",
    "        x = float(newest)\n",
    "        #print(div)\n",
    "    \n",
    "    print(newest)\n",
    "    \n",
    "    \n",
    "sqrt(2, 1.4)"
   ]
  },
  {
   "cell_type": "markdown",
   "metadata": {},
   "source": [
    "### Successful Attempt"
   ]
  },
  {
   "cell_type": "code",
   "execution_count": 29,
   "metadata": {},
   "outputs": [
    {
     "name": "stdout",
     "output_type": "stream",
     "text": [
      "The sqrt(2) = 1 . 4142135623730952214093017858547657902953555641438782124185842940740828094528952769132495248707026944\n"
     ]
    }
   ],
   "source": [
    "def sqrtx(s, guess): \n",
    "# Calculate the square root of 2 using the Babylonian Method.    \n",
    "    s = s * 10**100\n",
    "  \n",
    "    x = guess * 10**100\n",
    "    \n",
    "    \n",
    "    while True:\n",
    "        guess = x           \n",
    "        newguess = (guess + (s / x) * 10**100) / 2\n",
    "        \n",
    "        # Improve the guess. Apply the formula x1 = (x0 + S / x0) / 2. The number x1 is a better approximation to sqrt(S).\n",
    "        if newguess == guess:\n",
    "        # Check if convergence is achieved when the digits of xn+1 and xn agree to as many decimal places as you desire.\n",
    "            break\n",
    "        else:\n",
    "            x = newguess \n",
    "         \n",
    "        \n",
    "    ans = (\"{:100.0f}\".format( newguess))\n",
    "   \n",
    "    \n",
    "    print(\"The sqrt(2) =\",ans[0],\".\",ans[1:101])\n",
    "    # slice string by converting it into an array and outputting the first element of the array,then decimal point, followed my the next 100 elements of the array wh\n",
    "   \n",
    "\n",
    "sqrtx(2, 1.4)"
   ]
  },
  {
   "cell_type": "markdown",
   "metadata": {},
   "source": [
    "### Verify Answer "
   ]
  },
  {
   "cell_type": "code",
   "execution_count": null,
   "metadata": {},
   "outputs": [],
   "source": [
    "from decimal import *\n",
    "#getcontext().prec = 100\n",
    "# Unlike floating point, the decimal module has a user alterable precision (defaulting to 28 places) \n",
    "# Change the precision to 100 decimal places: Adapted from https://docs.python.org/3/library/decimal.html\n",
    "\n",
    "def sqrt2():\n",
    "    getcontext().prec = 100\n",
    "    # Change the precision to 100 decimal places: Adapted from https://docs.python.org/3/library/decimal.html\n",
    "    getcontext().rounding = ROUND_UP\n",
    "    # Round up the calculation when displaying 100 decimal places.\n",
    "    a = Decimal(2)\n",
    "    x = Decimal(1.4)\n",
    "    div = 0\n",
    "\n",
    "    for i in range(10):\n",
    "        est = Decimal(x)\n",
    "        div = Decimal(a) / Decimal(est)\n",
    "        newest= (Decimal(est)+Decimal(div))/2\n",
    "        x = newest\n",
    "        \n",
    "    print(\"The Square Root of 2 is:\", x)\n",
    "\n",
    "sqrt2()"
   ]
  },
  {
   "cell_type": "markdown",
   "metadata": {},
   "source": [
    "### Comparison"
   ]
  },
  {
   "cell_type": "markdown",
   "metadata": {},
   "source": [
    "## Task 2 - Chi-squared Test"
   ]
  },
  {
   "cell_type": "markdown",
   "metadata": {},
   "source": [
    "November 2nd, 2020: The Chi-squared test for independence is a statistical\n",
    "hypothesis test like a t-test. It is used to analyse whether two categorical variables\n",
    "are independent. The Wikipedia article gives the table below as an example [4],\n",
    "stating the Chi-squared value based on it is approximately 24.6. Use scipy.stats\n",
    "to verify this value and calculate the associated p value. You should include a short\n",
    "note with references justifying your analysis in a markdown cell."
   ]
  },
  {
   "cell_type": "markdown",
   "metadata": {},
   "source": [
    "Occupation   | A | B | C | D | Total\n",
    "-------------|---|---|---|---|------\n",
    "White collar | 90| 60|104| 95|\t349 \n",
    "Blue collar\t | 30| 50| 51| 20|\t151\n",
    "No collar\t | 30| 40| 45| 35|\t150\n",
    "-------------|---|---|---|---|------\n",
    "Total\t     |150|150|200|150|\t650\n"
   ]
  },
  {
   "cell_type": "markdown",
   "metadata": {},
   "source": [
    "A common problem in applied machine learning is determining whether input features are relevant to the outcome to be predicted.\n",
    "\n",
    "This is the problem of feature selection.\n",
    "\n",
    "In the case of classification problems where input variables are also categorical, we can use statistical tests to determine whether the output variable is dependent or independent of the input variables. If independent, then the input variable is a candidate for a feature that may be irrelevant to the problem and removed from the dataset.\n",
    "\n",
    "The Pearson’s chi-squared statistical hypothesis is an example of a test for independence between categorical variables.\n",
    "\n",
    "In this tutorial, you will discover the chi-squared statistical hypothesis test for quantifying the independence of pairs of categorical variables.\n",
    "\n",
    "After completing this tutorial, you will know:\n",
    "\n",
    "Pairs of categorical variables can be summarized using a contingency table.\n",
    "The chi-squared test can compare an observed contingency table to an expected table and determine if the categorical variables are independent.\n",
    "How to calculate and interpret the chi-squared test for categorical variables in Python."
   ]
  },
  {
   "cell_type": "markdown",
   "metadata": {},
   "source": [
    "### Pearson’s Chi-Squared Test\n",
    "The Pearson’s Chi-Squared test, or just Chi-Squared test for short, is named for Karl Pearson, although there are variations on the test.\n",
    "\n",
    "The Chi-Squared test is a statistical hypothesis test that assumes (the null hypothesis) that the observed frequencies for a categorical variable match the expected frequencies for the categorical variable. The test calculates a statistic that has a chi-squared distribution, named for the Greek capital letter Chi (X) pronounced “ki” as in kite.\n",
    "\n",
    "Given the Sex/Interest example above, the number of observations for a category (such as male and female) may or may not the same. Nevertheless, we can calculate the expected frequency of observations in each Interest group and see whether the partitioning of interests by Sex results in similar or different frequencies.\n",
    "\n",
    "The Chi-Squared test does this for a contingency table, first calculating the expected frequencies for the groups, then determining whether the division of the groups, called the observed frequencies, matches the expected frequencies.\n",
    "\n",
    "The result of the test is a test statistic that has a chi-squared distribution and can be interpreted to reject or fail to reject the assumption or null hypothesis that the observed and expected frequencies are the same.\n",
    "\n",
    "We can interpret the test statistic in the context of the chi-squared distribution with the requisite number of degress of freedom as follows:\n",
    "\n",
    "If Statistic >= Critical Value: significant result, reject null hypothesis (H0), dependent.\n",
    "If Statistic < Critical Value: not significant result, fail to reject null hypothesis (H0), independent.\n",
    "The degrees of freedom for the chi-squared distribution is calculated based on the size of the contingency table as:\n",
    "\n",
    "degrees of freedom: (rows - 1) * (cols - 1)\n",
    "1\n",
    "degrees of freedom: (rows - 1) * (cols - 1)\n",
    "In terms of a p-value and a chosen significance level (alpha), the test can be interpreted as follows:\n",
    "\n",
    "If p-value <= alpha: significant result, reject null hypothesis (H0), dependent.\n",
    "If p-value > alpha: not significant result, fail to reject null hypothesis (H0), independent.\n",
    "For the test to be effective, at least five observations are required in each cell of the contingency table."
   ]
  },
  {
   "cell_type": "code",
   "execution_count": 9,
   "metadata": {},
   "outputs": [
    {
     "name": "stdout",
     "output_type": "stream",
     "text": [
      "[[90, 60, 104, 95], [30, 50, 51, 20], [30, 40, 45, 35]]\n",
      "dof=6\n"
     ]
    }
   ],
   "source": [
    "# contingency table (Adapted from Brownlee , 2018))\n",
    "table = [[90, 60,104, 95],\n",
    "         [30, 50, 51, 20],\n",
    "         [30, 40, 45, 35]]\n",
    "print(table)\n",
    "# Calculate degrees of freedom (dof): (rows - 1) * (cols - 1)\n",
    "print('dof=%d' % dof)"
   ]
  },
  {
   "cell_type": "code",
   "execution_count": 11,
   "metadata": {},
   "outputs": [
    {
     "name": "stdout",
     "output_type": "stream",
     "text": [
      "[[ 80.53846154  80.53846154 107.38461538  80.53846154]\n",
      " [ 34.84615385  34.84615385  46.46153846  34.84615385]\n",
      " [ 34.61538462  34.61538462  46.15384615  34.61538462]]\n",
      "probability=0.950, critical=12.592, stat=24.57\n",
      "Dependent (reject H0)\n",
      "significance=0.050, p=0.000\n",
      "Dependent (reject H0)\n"
     ]
    }
   ],
   "source": [
    "# chi-squared test with similar proportions (Adapted from Brownlee , 2018))\n",
    "from scipy.stats import chi2_contingency\n",
    "from scipy.stats import chi2\n",
    "\n",
    "stat, p, dof, expected = chi2_contingency(table)\n",
    "\n",
    "print(expected)\n",
    "# interpret test-statistic\n",
    "prob = 0.95\n",
    "critical = chi2.ppf(prob, dof)\n",
    "print('probability=%.3f, critical=%.3f, stat=%.2f' % (prob, critical, stat))\n",
    "if abs(stat) >= critical:\n",
    "\tprint('Dependent (reject H0)')\n",
    "else:\n",
    "\tprint('Independent (fail to reject H0)')\n",
    "# interpret p-value\n",
    "alpha = 1.0 - prob\n",
    "print('significance=%.3f, p=%.3f' % (alpha, p))\n",
    "if p <= alpha:\n",
    "\tprint('Dependent (reject H0)')\n",
    "else:\n",
    "\tprint('Independent (fail to reject H0)')"
   ]
  },
  {
   "cell_type": "markdown",
   "metadata": {},
   "source": [
    "### Python for Data 25: Chi-Squared Tests "
   ]
  },
  {
   "cell_type": "code",
   "execution_count": 37,
   "metadata": {},
   "outputs": [],
   "source": [
    "import numpy as np\n",
    "import pandas as pd\n",
    "import scipy.stats as stats"
   ]
  },
  {
   "cell_type": "code",
   "execution_count": 39,
   "metadata": {},
   "outputs": [
    {
     "data": {
      "text/html": [
       "<div>\n",
       "<style scoped>\n",
       "    .dataframe tbody tr th:only-of-type {\n",
       "        vertical-align: middle;\n",
       "    }\n",
       "\n",
       "    .dataframe tbody tr th {\n",
       "        vertical-align: top;\n",
       "    }\n",
       "\n",
       "    .dataframe thead th {\n",
       "        text-align: right;\n",
       "    }\n",
       "</style>\n",
       "<table border=\"1\" class=\"dataframe\">\n",
       "  <thead>\n",
       "    <tr style=\"text-align: right;\">\n",
       "      <th></th>\n",
       "      <th>A</th>\n",
       "      <th>B</th>\n",
       "      <th>C</th>\n",
       "      <th>D</th>\n",
       "      <th>row_totals</th>\n",
       "    </tr>\n",
       "  </thead>\n",
       "  <tbody>\n",
       "    <tr>\n",
       "      <th>White Collar</th>\n",
       "      <td>90</td>\n",
       "      <td>60</td>\n",
       "      <td>104</td>\n",
       "      <td>95</td>\n",
       "      <td>349</td>\n",
       "    </tr>\n",
       "    <tr>\n",
       "      <th>Blue Collar</th>\n",
       "      <td>30</td>\n",
       "      <td>50</td>\n",
       "      <td>51</td>\n",
       "      <td>20</td>\n",
       "      <td>151</td>\n",
       "    </tr>\n",
       "    <tr>\n",
       "      <th>No Collar</th>\n",
       "      <td>30</td>\n",
       "      <td>40</td>\n",
       "      <td>45</td>\n",
       "      <td>35</td>\n",
       "      <td>150</td>\n",
       "    </tr>\n",
       "    <tr>\n",
       "      <th>col_totals</th>\n",
       "      <td>150</td>\n",
       "      <td>150</td>\n",
       "      <td>200</td>\n",
       "      <td>150</td>\n",
       "      <td>650</td>\n",
       "    </tr>\n",
       "  </tbody>\n",
       "</table>\n",
       "</div>"
      ],
      "text/plain": [
       "                A    B    C    D  row_totals\n",
       "White Collar   90   60  104   95         349\n",
       "Blue Collar    30   50   51   20         151\n",
       "No Collar      30   40   45   35         150\n",
       "col_totals    150  150  200  150         650"
      ]
     },
     "execution_count": 39,
     "metadata": {},
     "output_type": "execute_result"
    }
   ],
   "source": [
    "df2 = pd.DataFrame(np.array([[90, 60, 104, 95, 349 ],[30, 50, 51, 20, 151],[30, 40, 45, 35, 150],[150, 150, 200, 150, 650]]),\n",
    "                   columns=['A', 'B', 'C','D', 'row_totals'],index=['White Collar','Blue Collar','No Collar', 'col_totals'])\n",
    "\n",
    "observed = df2.iloc[0:3,0:4]   # Get table without totals for later use\n",
    "df2"
   ]
  },
  {
   "cell_type": "code",
   "execution_count": 36,
   "metadata": {},
   "outputs": [
    {
     "data": {
      "text/html": [
       "<div>\n",
       "<style scoped>\n",
       "    .dataframe tbody tr th:only-of-type {\n",
       "        vertical-align: middle;\n",
       "    }\n",
       "\n",
       "    .dataframe tbody tr th {\n",
       "        vertical-align: top;\n",
       "    }\n",
       "\n",
       "    .dataframe thead th {\n",
       "        text-align: right;\n",
       "    }\n",
       "</style>\n",
       "<table border=\"1\" class=\"dataframe\">\n",
       "  <thead>\n",
       "    <tr style=\"text-align: right;\">\n",
       "      <th></th>\n",
       "      <th>A</th>\n",
       "      <th>B</th>\n",
       "      <th>C</th>\n",
       "      <th>D</th>\n",
       "    </tr>\n",
       "  </thead>\n",
       "  <tbody>\n",
       "    <tr>\n",
       "      <th>White Collar</th>\n",
       "      <td>80.538462</td>\n",
       "      <td>80.538462</td>\n",
       "      <td>107.384615</td>\n",
       "      <td>80.538462</td>\n",
       "    </tr>\n",
       "    <tr>\n",
       "      <th>Blue Collar</th>\n",
       "      <td>34.846154</td>\n",
       "      <td>34.846154</td>\n",
       "      <td>46.461538</td>\n",
       "      <td>34.846154</td>\n",
       "    </tr>\n",
       "    <tr>\n",
       "      <th>No Collar</th>\n",
       "      <td>34.615385</td>\n",
       "      <td>34.615385</td>\n",
       "      <td>46.153846</td>\n",
       "      <td>34.615385</td>\n",
       "    </tr>\n",
       "  </tbody>\n",
       "</table>\n",
       "</div>"
      ],
      "text/plain": [
       "                      A          B           C          D\n",
       "White Collar  80.538462  80.538462  107.384615  80.538462\n",
       "Blue Collar   34.846154  34.846154   46.461538  34.846154\n",
       "No Collar     34.615385  34.615385   46.153846  34.615385"
      ]
     },
     "execution_count": 36,
     "metadata": {},
     "output_type": "execute_result"
    }
   ],
   "source": [
    "expected =  np.outer(df2[\"row_totals\"][0:3],\n",
    "                     df2.loc[\"col_totals\"][0:4]) / 650\n",
    "\n",
    "expected = pd.DataFrame(expected)\n",
    "\n",
    "expected.columns = ['A', 'B', 'C','D']\n",
    "expected.index = ['White Collar','Blue Collar','No Collar']\n",
    "\n",
    "expected"
   ]
  },
  {
   "cell_type": "code",
   "execution_count": 41,
   "metadata": {},
   "outputs": [
    {
     "name": "stdout",
     "output_type": "stream",
     "text": [
      "24.571202858582602\n"
     ]
    }
   ],
   "source": [
    "chi_squared_stat = (((observed-expected)**2)/expected).sum().sum()\n",
    "\n",
    "print(chi_squared_stat)\n"
   ]
  },
  {
   "cell_type": "code",
   "execution_count": 33,
   "metadata": {},
   "outputs": [
    {
     "name": "stdout",
     "output_type": "stream",
     "text": [
      "Critical value\n",
      "12.591587243743977\n",
      "P value\n",
      "1.0\n"
     ]
    }
   ],
   "source": [
    "crit = stats.chi2.ppf(q = 0.95, # Find the critical value for 95% confidence*\n",
    "                      df = 6)   # *\n",
    "\n",
    "print(\"Critical value\")\n",
    "print(crit)\n",
    "\n",
    "p_value = 1 - stats.chi2.cdf(x=chi_squared_stat,  # Find the p-value\n",
    "                             df=6)\n",
    "print(\"P value\")\n",
    "print(p_value)"
   ]
  },
  {
   "cell_type": "code",
   "execution_count": 34,
   "metadata": {},
   "outputs": [
    {
     "data": {
      "text/plain": [
       "(7.169321280162059,\n",
       " 0.518479392948842,\n",
       " 8,\n",
       " array([[ 23.82 ,  11.16 ,  25.02 ],\n",
       "        [ 61.138,  28.644,  64.218],\n",
       "        [ 99.647,  46.686, 104.667],\n",
       "        [ 15.086,   7.068,  15.846],\n",
       "        [197.309,  92.442, 207.249]]))"
      ]
     },
     "execution_count": 34,
     "metadata": {},
     "output_type": "execute_result"
    }
   ],
   "source": [
    "stats.chi2_contingency(observed= observed)"
   ]
  },
  {
   "cell_type": "markdown",
   "metadata": {},
   "source": [
    "The output shows the chi-square statistic, the p-value and the degrees of freedom followed by the expected counts.\n",
    "\n",
    "As expected, given the high p-value, the test result does not detect a significant relationship between the variables."
   ]
  },
  {
   "cell_type": "code",
   "execution_count": null,
   "metadata": {},
   "outputs": [],
   "source": []
  },
  {
   "cell_type": "code",
   "execution_count": null,
   "metadata": {},
   "outputs": [],
   "source": []
  },
  {
   "cell_type": "code",
   "execution_count": null,
   "metadata": {},
   "outputs": [],
   "source": []
  },
  {
   "cell_type": "markdown",
   "metadata": {},
   "source": [
    "## References:\n",
    "\n",
    "1. Wikipedia contributors *Chi-squared test* [Online] Available at:https://en.wikipedia.org/wiki/Chi-squared_test [Accessed 2 Nov 2020]\n",
    "1. Brownlee, J (2018) *A Gentle Introduction to the Chi-Squared Test for Machine Learning* [Online] Available at:https://machinelearningmastery.com/chi-squared-test-for-machine-learning/ [Accessed 02 Nov 2020]\n",
    "1. Hamel, G, J (2018) *Python for Data 25: Chi-Squared Tests* [Online] Available at:https://www.kaggle.com/hamelg/python-for-data-25-chi-squared-tests [Accessed 02 Nov 2020]\n",
    "1. Eargle, D (2016) *Data Mining Assignment – Tips* [Online] Available at:https://daveeargle.com/assignments/data-mining/restaurant-tip-ratios.docx [Accessed 19 Oct 2019]\n",
    "1. Eargle, D (2016) *Data Mining Assignment – Tips* [Online] Available at:https://daveeargle.com/assignments/data-mining/restaurant-tip-ratios.docx [Accessed 19 Oct 2019]\n",
    "1. Eargle, D (2016) *Data Mining Assignment – Tips* [Online] Available at:https://daveeargle.com/assignments/data-mining/restaurant-tip-ratios.docx [Accessed 19 Oct 2019]\n",
    "1. Eargle, D (2016) *Data Mining Assignment – Tips* [Online] Available at:https://daveeargle.com/assignments/data-mining/restaurant-tip-ratios.docx [Accessed 19 Oct 2019]"
   ]
  }
 ],
 "metadata": {
  "kernelspec": {
   "display_name": "Python 3",
   "language": "python",
   "name": "python3"
  },
  "language_info": {
   "codemirror_mode": {
    "name": "ipython",
    "version": 3
   },
   "file_extension": ".py",
   "mimetype": "text/x-python",
   "name": "python",
   "nbconvert_exporter": "python",
   "pygments_lexer": "ipython3",
   "version": "3.8.3"
  }
 },
 "nbformat": 4,
 "nbformat_minor": 4
}
